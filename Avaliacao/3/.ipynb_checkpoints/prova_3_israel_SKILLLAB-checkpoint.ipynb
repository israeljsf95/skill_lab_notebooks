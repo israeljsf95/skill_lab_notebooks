{
 "cells": [
  {
   "cell_type": "markdown",
   "metadata": {},
   "source": [
    "# Brincando com Numeros Feitos a Mão - Digitalizados\n"
   ]
  },
  {
   "cell_type": "code",
   "execution_count": 207,
   "metadata": {},
   "outputs": [],
   "source": [
    "%matplotlib inline\n",
    "from sklearn.datasets import load_digits\n",
    "import matplotlib.pyplot as plt\n",
    "import numpy as np\n"
   ]
  },
  {
   "cell_type": "code",
   "execution_count": 208,
   "metadata": {},
   "outputs": [],
   "source": [
    "digitis_ds = load_digits()"
   ]
  },
  {
   "cell_type": "code",
   "execution_count": 209,
   "metadata": {},
   "outputs": [],
   "source": [
    "digitos_im = digitis_ds.images"
   ]
  },
  {
   "cell_type": "code",
   "execution_count": 210,
   "metadata": {},
   "outputs": [
    {
     "data": {
      "text/plain": [
       "(1797, 8, 8)"
      ]
     },
     "execution_count": 210,
     "metadata": {},
     "output_type": "execute_result"
    }
   ],
   "source": [
    "digitos_im.shape"
   ]
  },
  {
   "cell_type": "code",
   "execution_count": 211,
   "metadata": {},
   "outputs": [],
   "source": [
    "labels = digitis_ds.target"
   ]
  },
  {
   "cell_type": "code",
   "execution_count": 212,
   "metadata": {},
   "outputs": [
    {
     "data": {
      "text/plain": [
       "(1797,)"
      ]
     },
     "execution_count": 212,
     "metadata": {},
     "output_type": "execute_result"
    }
   ],
   "source": [
    "labels.shape"
   ]
  },
  {
   "cell_type": "code",
   "execution_count": 213,
   "metadata": {},
   "outputs": [
    {
     "name": "stdout",
     "output_type": "stream",
     "text": [
      "[   0    1    2 ... 1794 1795 1796]\n",
      "[ 835 1613   85 ...  823 1325  507]\n"
     ]
    }
   ],
   "source": [
    "idx = np.arange(len(labels))\n",
    "print(idx)\n",
    "np.random.shuffle(idx)\n",
    "print(idx)\n",
    "\n",
    "labels = labels[idx]\n",
    "digitos_im = digitos_im[idx]\n",
    "\n"
   ]
  },
  {
   "cell_type": "markdown",
   "metadata": {},
   "source": [
    "# Mapeamento do tipo 1 por todos\n"
   ]
  },
  {
   "cell_type": "code",
   "execution_count": 214,
   "metadata": {},
   "outputs": [],
   "source": [
    "def one_vs_all(labels):\n",
    "    lab_unicos = np.unique(labels)\n",
    "    M = len(lab_unicos)\n",
    "    #criando a matriz de acomodação\n",
    "    N = len(labels)\n",
    "    matriz_one_vs_all = np.zeros((N, M))\n",
    "    for unico in lab_unicos: \n",
    "        matriz_one_vs_all[labels == unico, unico] = 1\n",
    "    \n",
    "    return matriz_one_vs_all      \n",
    "    \n",
    "mapeamento = one_vs_all(labels)"
   ]
  },
  {
   "cell_type": "code",
   "execution_count": 215,
   "metadata": {},
   "outputs": [
    {
     "data": {
      "text/plain": [
       "(1797, 10)"
      ]
     },
     "execution_count": 215,
     "metadata": {},
     "output_type": "execute_result"
    }
   ],
   "source": [
    "mapeamento.shape"
   ]
  },
  {
   "cell_type": "code",
   "execution_count": 216,
   "metadata": {},
   "outputs": [
    {
     "name": "stdout",
     "output_type": "stream",
     "text": [
      "NUM 0\n",
      "Soma labels: 178 \t Soma_map: 178\n",
      "NUM 1\n",
      "Soma labels: 182 \t Soma_map: 182\n",
      "NUM 2\n",
      "Soma labels: 177 \t Soma_map: 177\n",
      "NUM 3\n",
      "Soma labels: 183 \t Soma_map: 183\n",
      "NUM 4\n",
      "Soma labels: 181 \t Soma_map: 181\n",
      "NUM 5\n",
      "Soma labels: 182 \t Soma_map: 182\n",
      "NUM 6\n",
      "Soma labels: 181 \t Soma_map: 181\n",
      "NUM 7\n",
      "Soma labels: 179 \t Soma_map: 179\n",
      "NUM 8\n",
      "Soma labels: 174 \t Soma_map: 174\n",
      "NUM 9\n",
      "Soma labels: 180 \t Soma_map: 180\n"
     ]
    }
   ],
   "source": [
    "#checando\n",
    "unicos = np.unique(labels)\n",
    "soma_map = mapeamento.sum(axis = 0) #somando as linhas\n",
    "\n",
    "for i in unicos:\n",
    "    soma_labels_unico = np.sum(labels == i)\n",
    "    print(\"NUM {0}\\nSoma labels: {1} \\t Soma_map: {1}\".format(i, soma_labels_unico, soma_map[i] ))\n",
    "    "
   ]
  },
  {
   "cell_type": "code",
   "execution_count": 217,
   "metadata": {},
   "outputs": [
    {
     "name": "stdout",
     "output_type": "stream",
     "text": [
      "[3 1 1 9 7 9 5 8 2 2 0 0 3 1 5 4 1 6 1 0]\n"
     ]
    }
   ],
   "source": [
    "print(labels[0:20])\n"
   ]
  },
  {
   "cell_type": "code",
   "execution_count": 218,
   "metadata": {},
   "outputs": [],
   "source": [
    "\n",
    "def mostrar_multipla_imgs(imagens, labels, linhas = 1, cols=1):\n",
    "    \n",
    "    fig, ax = plt.subplots(nrows = linhas, ncols = cols, figsize = (10,10))\n",
    "    ax = ax.ravel()\n",
    "    for ind in range(imagens.shape[0]):\n",
    "        ax[ind].imshow(imagens[ind], cmap = 'gray', aspect = .8)\n",
    "        ax[ind].set_title(str(labels[ind]).capitalize())\n",
    "        ax[ind].set_axis_off()\n",
    "    \n",
    "    fig.set_size_inches(15,4)\n",
    "    fig.tight_layout()\n",
    "    plt.show()"
   ]
  },
  {
   "cell_type": "code",
   "execution_count": 219,
   "metadata": {},
   "outputs": [
    {
     "data": {
      "image/png": "[encoded data removed]",
      "text/plain": [
       "<Figure size 1080x288 with 20 Axes>"
      ]
     },
     "metadata": {
      "needs_background": "light"
     },
     "output_type": "display_data"
    }
   ],
   "source": [
    "mostrar_multipla_imgs(digitos_im[:20], labels[:20], linhas = 2, cols = 10)"
   ]
  },
  {
   "cell_type": "markdown",
   "metadata": {},
   "source": [
    "# Rodando o Classificador sem Efetuar a Redução de Dimensionalidade"
   ]
  },
  {
   "cell_type": "code",
   "execution_count": 220,
   "metadata": {},
   "outputs": [
    {
     "name": "stdout",
     "output_type": "stream",
     "text": [
      "[LogisticRegression(), LogisticRegression(), LogisticRegression(), LogisticRegression(), LogisticRegression(), LogisticRegression(), LogisticRegression(), LogisticRegression(), LogisticRegression(), LogisticRegression()]\n"
     ]
    }
   ],
   "source": [
    "from sklearn.linear_model import LogisticRegression\n",
    "\n",
    "def criacao_classificadores(N, cte_penalty = 1, pen = 'l1', sol = 'liblinear', verb = 0):\n",
    "    \n",
    "    classificadores = []\n",
    "    for i in range(N):\n",
    "        classificadores.append(LogisticRegression(C = cte_penalty, penalty = pen,\n",
    "                                                  solver = sol, verbose = verb))\n",
    "    return classificadores\n",
    "\n",
    "cadeia_classificadores = criacao_classificadores(len(unicos))\n",
    "print(cadeias_classificadores)"
   ]
  },
  {
   "cell_type": "code",
   "execution_count": 221,
   "metadata": {},
   "outputs": [],
   "source": [
    "digitos_modo_vetor = digitos_im.reshape(digitos_im.shape[0], digitos_im.shape[1]*digitos_im.shape[2])"
   ]
  },
  {
   "cell_type": "code",
   "execution_count": 222,
   "metadata": {},
   "outputs": [
    {
     "name": "stdout",
     "output_type": "stream",
     "text": [
      "(1797, 64)\n"
     ]
    }
   ],
   "source": [
    "print(digitos_modo_vetor.shape)"
   ]
  },
  {
   "cell_type": "code",
   "execution_count": 223,
   "metadata": {},
   "outputs": [],
   "source": [
    "#Fazendo o Train-Test-Split \n",
    "\n",
    "train_len = int(0.7*digitos_modo_vetor.shape[0])\n",
    "X_train = digitos_modo_vetor[:train_len,:]\n",
    "X_test = digitos_modo_vetor[train_len:, :]\n",
    "map_train = mapeamento[:train_len, :]\n",
    "map_test = mapeamento[train_len:, :]\n",
    "label_train = labels[:train_len]\n",
    "label_test = labels[train_len:]\n",
    "\n"
   ]
  },
  {
   "cell_type": "code",
   "execution_count": 224,
   "metadata": {},
   "outputs": [
    {
     "name": "stdout",
     "output_type": "stream",
     "text": [
      "Treinando Regressor Logistico: 0\n",
      "Acuracia do Regressor Logistico 0: 1.000 \n",
      "Treinando Regressor Logistico: 1\n",
      "Acuracia do Regressor Logistico 1: 0.996 \n",
      "Treinando Regressor Logistico: 2\n",
      "Acuracia do Regressor Logistico 2: 1.000 \n",
      "Treinando Regressor Logistico: 3\n",
      "Acuracia do Regressor Logistico 3: 0.998 \n",
      "Treinando Regressor Logistico: 4\n",
      "Acuracia do Regressor Logistico 4: 1.000 \n",
      "Treinando Regressor Logistico: 5\n",
      "Acuracia do Regressor Logistico 5: 1.000 \n",
      "Treinando Regressor Logistico: 6\n",
      "Acuracia do Regressor Logistico 6: 1.000 \n",
      "Treinando Regressor Logistico: 7\n",
      "Acuracia do Regressor Logistico 7: 1.000 \n",
      "Treinando Regressor Logistico: 8\n",
      "Acuracia do Regressor Logistico 8: 0.977 \n",
      "Treinando Regressor Logistico: 9\n",
      "Acuracia do Regressor Logistico 9: 0.994 \n"
     ]
    }
   ],
   "source": [
    "#Função para treinar os Classificadores\n",
    "\n",
    "def treinar_cadeia(X_train, map_train, cadeia_classificadores):\n",
    "    \n",
    "    for idx, clf in enumerate(cadeia_classificadores):\n",
    "        clf.fit(X_train, map_train[:, idx].ravel())\n",
    "        cadeia_classificadores[idx] = clf\n",
    "        print(\"Treinando Regressor Logistico: {}\".format(idx))\n",
    "        print(\"Acuracia do Regressor Logistico {0}: {1:.3f} \".format(idx, clf.score(X_train, \n",
    "                                                                                   map_train[:, idx].ravel())))\n",
    "    \n",
    "    return cadeia_classificadores\n",
    "\n",
    "cadeia_classificadores = treinar_cadeia(X_train, map_train, cadeia_classificadores)"
   ]
  },
  {
   "cell_type": "code",
   "execution_count": 274,
   "metadata": {},
   "outputs": [],
   "source": [
    "def validar_cadeia(X_test, labels_test, cadeia_classificadores):\n",
    "    \n",
    "    prob_matrix = np.zeros((X_test.shape[0], len(cadeia_classificadores)))\n",
    "    prob_matrix = prob_matrix.T\n",
    "    for i in range(len(cadeia_classificadores)):\n",
    "        clf_teste = cadeia_classificadores[i]\n",
    "        aux = np.argmax(clf_teste.predict_proba(X_test), axis = 1)\n",
    "        aux = np.where(aux == 1, i, -1)\n",
    "        prob_matrix[i, :] = aux\n",
    "    labels_hat = np.argmax(prob_matrix, axis = 0)\n",
    "    print((labels_hat == labels_test).mean())\n",
    "    \n",
    "    return labels_hat\n",
    "    "
   ]
  },
  {
   "cell_type": "code",
   "execution_count": 275,
   "metadata": {},
   "outputs": [
    {
     "name": "stdout",
     "output_type": "stream",
     "text": [
      "0.8944444444444445\n"
     ]
    }
   ],
   "source": [
    "l_hat = validar_cadeia(X_test, label_test, cadeia_classificadores)"
   ]
  },
  {
   "cell_type": "code",
   "execution_count": 281,
   "metadata": {},
   "outputs": [
    {
     "data": {
      "image/png": "[encoded data removed]",
      "text/plain": [
       "<Figure size 432x288 with 2 Axes>"
      ]
     },
     "metadata": {
      "needs_background": "light"
     },
     "output_type": "display_data"
    }
   ],
   "source": [
    "from sklearn.metrics import confusion_matrix, ConfusionMatrixDisplay, classification_report\n",
    "\n",
    "cm = confusion_matrix(label_test, l_hat)\n",
    "disp = ConfusionMatrixDisplay(confusion_matrix=cm)\n",
    "disp.plot( cmap = 'gray') \n",
    "plt.show()"
   ]
  },
  {
   "cell_type": "code",
   "execution_count": 282,
   "metadata": {},
   "outputs": [
    {
     "name": "stdout",
     "output_type": "stream",
     "text": [
      "              precision    recall  f1-score   support\n",
      "\n",
      "           0       0.65      1.00      0.79        54\n",
      "           1       0.91      0.81      0.86        48\n",
      "           2       0.98      0.96      0.97        53\n",
      "           3       0.94      0.83      0.88        60\n",
      "           4       1.00      0.96      0.98        55\n",
      "           5       0.92      0.92      0.92        50\n",
      "           6       0.96      0.91      0.94        57\n",
      "           7       0.98      0.96      0.97        46\n",
      "           8       0.82      0.74      0.78        61\n",
      "           9       0.94      0.88      0.91        56\n",
      "\n",
      "    accuracy                           0.89       540\n",
      "   macro avg       0.91      0.90      0.90       540\n",
      "weighted avg       0.91      0.89      0.90       540\n",
      "\n"
     ]
    }
   ],
   "source": [
    "print(classification_report(label_test, l_hat, labels = unicos))"
   ]
  },
  {
   "cell_type": "markdown",
   "metadata": {},
   "source": [
    "# Aplicando PCA e K-PCA"
   ]
  },
  {
   "cell_type": "code",
   "execution_count": 317,
   "metadata": {},
   "outputs": [],
   "source": [
    "from sklearn.decomposition import PCA, KernelPCA\n",
    "\n",
    "pca = PCA(n_components = 2)\n",
    "kpca = KernelPCA(n_components = 2, kernel = 'poly')\n",
    "X_train_pca = pca.fit_transform(X_train)\n",
    "X_test_pca = pca.transform(X_test)\n",
    "X_train_kpca = kpca.fit_transform(X_train)\n",
    "X_test_kpca = kpca.transform(X_test)\n",
    "\n"
   ]
  },
  {
   "cell_type": "code",
   "execution_count": 308,
   "metadata": {},
   "outputs": [],
   "source": [
    "cadeia_classificadores_pca = criacao_classificadores(len(unicos))\n",
    "cadeia_classificadores_kpca = criacao_classificadores(len(unicos))"
   ]
  },
  {
   "cell_type": "code",
   "execution_count": 309,
   "metadata": {},
   "outputs": [
    {
     "name": "stdout",
     "output_type": "stream",
     "text": [
      "Treinando Regressor Logistico: 0\n",
      "Acuracia do Regressor Logistico 0: 0.973 \n",
      "Treinando Regressor Logistico: 1\n",
      "Acuracia do Regressor Logistico 1: 0.916 \n",
      "Treinando Regressor Logistico: 2\n",
      "Acuracia do Regressor Logistico 2: 0.897 \n",
      "Treinando Regressor Logistico: 3\n",
      "Acuracia do Regressor Logistico 3: 0.934 \n",
      "Treinando Regressor Logistico: 4\n",
      "Acuracia do Regressor Logistico 4: 0.959 \n",
      "Treinando Regressor Logistico: 5\n",
      "Acuracia do Regressor Logistico 5: 0.895 \n",
      "Treinando Regressor Logistico: 6\n",
      "Acuracia do Regressor Logistico 6: 0.886 \n",
      "Treinando Regressor Logistico: 7\n",
      "Acuracia do Regressor Logistico 7: 0.881 \n",
      "Treinando Regressor Logistico: 8\n",
      "Acuracia do Regressor Logistico 8: 0.910 \n",
      "Treinando Regressor Logistico: 9\n",
      "Acuracia do Regressor Logistico 9: 0.905 \n"
     ]
    }
   ],
   "source": [
    "#Treinando_PCA\n",
    "cadeia_classificadores_pca = treinar_cadeia(X_train_pca, map_train, cadeia_classificadores_pca)"
   ]
  },
  {
   "cell_type": "code",
   "execution_count": 310,
   "metadata": {},
   "outputs": [
    {
     "name": "stdout",
     "output_type": "stream",
     "text": [
      "0.2574074074074074\n"
     ]
    }
   ],
   "source": [
    "l_hat_pca = validar_cadeia(X_test_pca, label_test, cadeia_classificadores_pca)"
   ]
  },
  {
   "cell_type": "code",
   "execution_count": 311,
   "metadata": {},
   "outputs": [
    {
     "data": {
      "image/png": "[encoded data removed]",
      "text/plain": [
       "<Figure size 432x288 with 2 Axes>"
      ]
     },
     "metadata": {
      "needs_background": "light"
     },
     "output_type": "display_data"
    }
   ],
   "source": [
    "cm = confusion_matrix(label_test, l_hat_pca)\n",
    "disp = ConfusionMatrixDisplay(confusion_matrix=cm)\n",
    "disp.plot( cmap = 'gray') \n",
    "plt.show()"
   ]
  },
  {
   "cell_type": "code",
   "execution_count": 312,
   "metadata": {},
   "outputs": [
    {
     "name": "stdout",
     "output_type": "stream",
     "text": [
      "              precision    recall  f1-score   support\n",
      "\n",
      "           0       0.13      1.00      0.23        54\n",
      "           1       1.00      0.02      0.04        48\n",
      "           2       0.00      0.00      0.00        53\n",
      "           3       0.90      0.47      0.62        60\n",
      "           4       0.89      0.62      0.73        55\n",
      "           5       0.00      0.00      0.00        50\n",
      "           6       0.50      0.19      0.28        57\n",
      "           7       0.25      0.09      0.13        46\n",
      "           8       0.00      0.00      0.00        61\n",
      "           9       0.64      0.12      0.21        56\n",
      "\n",
      "    accuracy                           0.26       540\n",
      "   macro avg       0.43      0.25      0.22       540\n",
      "weighted avg       0.43      0.26      0.23       540\n",
      "\n"
     ]
    },
    {
     "name": "stderr",
     "output_type": "stream",
     "text": [
      "C:\\ProgramData\\Anaconda3\\lib\\site-packages\\sklearn\\metrics\\_classification.py:1221: UndefinedMetricWarning: Precision and F-score are ill-defined and being set to 0.0 in labels with no predicted samples. Use `zero_division` parameter to control this behavior.\n",
      "  _warn_prf(average, modifier, msg_start, len(result))\n"
     ]
    }
   ],
   "source": [
    "print(classification_report(label_test, l_hat_pca, labels = unicos))"
   ]
  },
  {
   "cell_type": "code",
   "execution_count": 318,
   "metadata": {},
   "outputs": [
    {
     "name": "stdout",
     "output_type": "stream",
     "text": [
      "Treinando Regressor Logistico: 0\n",
      "Acuracia do Regressor Logistico 0: 0.975 \n",
      "Treinando Regressor Logistico: 1\n",
      "Acuracia do Regressor Logistico 1: 0.933 \n",
      "Treinando Regressor Logistico: 2\n",
      "Acuracia do Regressor Logistico 2: 0.900 \n",
      "Treinando Regressor Logistico: 3\n",
      "Acuracia do Regressor Logistico 3: 0.921 \n",
      "Treinando Regressor Logistico: 4\n",
      "Acuracia do Regressor Logistico 4: 0.910 \n",
      "Treinando Regressor Logistico: 5\n",
      "Acuracia do Regressor Logistico 5: 0.895 \n",
      "Treinando Regressor Logistico: 6\n",
      "Acuracia do Regressor Logistico 6: 0.889 \n",
      "Treinando Regressor Logistico: 7\n",
      "Acuracia do Regressor Logistico 7: 0.891 \n",
      "Treinando Regressor Logistico: 8\n",
      "Acuracia do Regressor Logistico 8: 0.910 \n",
      "Treinando Regressor Logistico: 9\n",
      "Acuracia do Regressor Logistico 9: 0.908 \n"
     ]
    }
   ],
   "source": [
    "#Treinando K_PCA\n",
    "cadeia_classificadores_kpca = treinar_cadeia(X_train_kpca, map_train, cadeia_classificadores_kpca)"
   ]
  },
  {
   "cell_type": "code",
   "execution_count": 319,
   "metadata": {},
   "outputs": [
    {
     "name": "stdout",
     "output_type": "stream",
     "text": [
      "0.2074074074074074\n"
     ]
    }
   ],
   "source": [
    "l_hat_kpca = validar_cadeia(X_test_kpca, label_test, cadeia_classificadores_kpca)"
   ]
  },
  {
   "cell_type": "code",
   "execution_count": 320,
   "metadata": {},
   "outputs": [
    {
     "name": "stdout",
     "output_type": "stream",
     "text": [
      "              precision    recall  f1-score   support\n",
      "\n",
      "           0       0.11      0.93      0.20        54\n",
      "           1       0.68      0.27      0.39        48\n",
      "           2       1.00      0.04      0.07        53\n",
      "           3       0.88      0.25      0.39        60\n",
      "           4       0.73      0.15      0.24        55\n",
      "           5       0.00      0.00      0.00        50\n",
      "           6       0.43      0.21      0.28        57\n",
      "           7       0.00      0.00      0.00        46\n",
      "           8       0.00      0.00      0.00        61\n",
      "           9       0.71      0.21      0.33        56\n",
      "\n",
      "    accuracy                           0.21       540\n",
      "   macro avg       0.45      0.21      0.19       540\n",
      "weighted avg       0.46      0.21      0.19       540\n",
      "\n"
     ]
    },
    {
     "name": "stderr",
     "output_type": "stream",
     "text": [
      "C:\\ProgramData\\Anaconda3\\lib\\site-packages\\sklearn\\metrics\\_classification.py:1221: UndefinedMetricWarning: Precision and F-score are ill-defined and being set to 0.0 in labels with no predicted samples. Use `zero_division` parameter to control this behavior.\n",
      "  _warn_prf(average, modifier, msg_start, len(result))\n"
     ]
    }
   ],
   "source": [
    "print(classification_report(label_test, l_hat_kpca, labels = unicos))"
   ]
  },
  {
   "cell_type": "code",
   "execution_count": 321,
   "metadata": {},
   "outputs": [],
   "source": [
    "import time\n",
    "from sklearn import manifold\n",
    "\n",
    "def extract_sequence(tsne, X):\n",
    "    sklearn_grad = manifold.t_sne._gradient_descent\n",
    "    Y_seq = []\n",
    "\n",
    "    # modified from sklearn source https://github.com/scikit-learn/scikit-learn/blob/a24c8b46/sklearn/manifold/t_sne.py#L442\n",
    "    # to save the sequence of embeddings at each training iteration\n",
    "    def _gradient_descent(objective, p0, it, n_iter,\n",
    "                          n_iter_check=1, n_iter_without_progress=300,\n",
    "                          momentum=0.8, learning_rate=200.0, min_gain=0.01,\n",
    "                          min_grad_norm=1e-7, verbose=0, args=None, kwargs=None):\n",
    "        if args is None:\n",
    "            args = []\n",
    "        if kwargs is None:\n",
    "            kwargs = {}\n",
    "\n",
    "        p = p0.copy().ravel()\n",
    "        update = np.zeros_like(p)\n",
    "        gains = np.ones_like(p)\n",
    "        error = np.finfo(np.float).max\n",
    "        best_error = np.finfo(np.float).max\n",
    "        best_iter = i = it\n",
    "\n",
    "        tic = time()\n",
    "        for i in range(it, n_iter):\n",
    "\n",
    "            # save the current state\n",
    "            Y_seq.append(p.copy().reshape(-1, 2))\n",
    "\n",
    "            error, grad = objective(p, *args, **kwargs)\n",
    "            grad_norm = np.linalg.norm(grad)\n",
    "\n",
    "            inc = update * grad < 0.0\n",
    "            dec = np.invert(inc)\n",
    "            gains[inc] += 0.2\n",
    "            gains[dec] *= 0.8\n",
    "            np.clip(gains, min_gain, np.inf, out=gains)\n",
    "            grad *= gains\n",
    "            update = momentum * update - learning_rate * grad\n",
    "            p += update\n",
    "\n",
    "            if (i + 1) % n_iter_check == 0:\n",
    "                toc = time()\n",
    "                duration = toc - tic\n",
    "                tic = toc\n",
    "\n",
    "                if verbose >= 2:\n",
    "                    print(\"[t-SNE] Iteration %d: error = %.7f,\"\n",
    "                          \" gradient norm = %.7f\"\n",
    "                          \" (%s iterations in %0.3fs)\"\n",
    "                          % (i + 1, error, grad_norm, n_iter_check, duration))\n",
    "\n",
    "                if error < best_error:\n",
    "                    best_error = error\n",
    "                    best_iter = i\n",
    "                elif i - best_iter > n_iter_without_progress:\n",
    "                    if verbose >= 2:\n",
    "                        print(\"[t-SNE] Iteration %d: did not make any progress \"\n",
    "                              \"during the last %d episodes. Finished.\"\n",
    "                              % (i + 1, n_iter_without_progress))\n",
    "                    break\n",
    "                if grad_norm <= min_grad_norm:\n",
    "                    if verbose >= 2:\n",
    "                        print(\"[t-SNE] Iteration %d: gradient norm %f. Finished.\"\n",
    "                              % (i + 1, grad_norm))\n",
    "                    break\n",
    "\n",
    "        return p, error, i\n",
    "\n",
    "    # replace with modified gradient descent\n",
    "    manifold.t_sne._gradient_descent = _gradient_descent\n",
    "    # train given tsne object with new gradient function\n",
    "    X_proj = tsne.fit_transform(X)\n",
    "    # return to default version\n",
    "    manifold.t_sne._gradient_descent = sklearn_grad\n",
    "    \n",
    "    return np.array(Y_seq)"
   ]
  },
  {
   "cell_type": "code",
   "execution_count": null,
   "metadata": {},
   "outputs": [],
   "source": [
    "from sklearn.manifold import TSNE\n",
    "tsne = TSNE(n_iter=args.early_iters, verbose=True)\n",
    "Y_seq = extract_sequence(tsne, X)"
   ]
  },
  {
   "cell_type": "code",
   "execution_count": 322,
   "metadata": {},
   "outputs": [],
   "source": [
    "from matplotlib import animation, rc\n",
    "from IPython.display import HTML"
   ]
  },
  {
   "cell_type": "code",
   "execution_count": 323,
   "metadata": {},
   "outputs": [
    {
     "data": {
      "image/png": "[encoded data removed]",
      "text/plain": [
       "<Figure size 432x288 with 1 Axes>"
      ]
     },
     "metadata": {
      "needs_background": "light"
     },
     "output_type": "display_data"
    }
   ],
   "source": [
    "fig, ax = plt.subplots()\n",
    "\n",
    "ax.set_xlim(( 0, 2))\n",
    "ax.set_ylim((-2, 2))\n",
    "\n",
    "line, = ax.plot([], [], lw=2)"
   ]
  },
  {
   "cell_type": "code",
   "execution_count": null,
   "metadata": {},
   "outputs": [],
   "source": [
    "def init():\n",
    "    line.set_data([], [])\n",
    "    return (line,)\n",
    "# animation function. This is called sequentially\n",
    "def animate(i):\n",
    "    x = np.linspace(0, 2, 1000)\n",
    "    y = np.sin(2 * np.pi * (x - 0.01 * i))\n",
    "    line.set_data(x, y)\n",
    "    return (line,)\n",
    "# call the animator. blit=True means only re-draw the parts that have changed.\n",
    "anim = animation.FuncAnimation(fig, animate, init_func=init,\n",
    "                               frames=100, interval=20, blit=True)"
   ]
  }
 ],
 "metadata": {
  "kernelspec": {
   "display_name": "Python 3",
   "language": "python",
   "name": "python3"
  },
  "language_info": {
   "codemirror_mode": {
    "name": "ipython",
    "version": 3
   },
   "file_extension": ".py",
   "mimetype": "text/x-python",
   "name": "python",
   "nbconvert_exporter": "python",
   "pygments_lexer": "ipython3",
   "version": "3.8.5"
  }
 },
 "nbformat": 4,
 "nbformat_minor": 4
}
