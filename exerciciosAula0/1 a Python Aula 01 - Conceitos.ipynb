#!/usr/bin/env python
# coding: utf-8

# # Fundamentos da Programação em Python
# # Variáveis, precedência de Operações Matemáticas  

# Será coberto os seguintes tópicos:    
# 1. Numeros e basico de operações matemáticas
# - Ordem de Operações (Precedência) 
# - Atribuição de Variáveis 

# # Números e operações Matemáticas Básicas
# 
# 

# ![image.png](attachment:image.png)

# In[ ]:


5 + 10


# In[ ]:


5*10


# In[ ]:


1/2


# In[ ]:


2**2


# In[ ]:


(5*5)/25


# In[ ]:


25%4


# In[ ]:


abs(-5)


# In[ ]:


import math
math.sqrt(25)


# # Ordem das Operações

# ![image.png](attachment:image.png)
# Reference: https://en.wikibooks.org/wiki/Python_Programming/Basic_Math
# 

# In[ ]:


(1 + 2) * 3


# In[ ]:


1 + 2 * 3


# In[ ]:


16 / 4 + 25 / 5


# In[ ]:


16 / (4 + 25) / 5


# # Atribuição de Variáveis
# - An assignment statement is a line containing at least one single equal sign ( = ). 
# - Assignment expression has a target that is "variable name". 
# - Python will evaluate the expression on the right of the variable name, reduce it to a single value, and bind the variable name to the that value.

# In[ ]:


a = 5


# In[ ]:


a


# In[ ]:


b = 10


# In[ ]:


b


# In[ ]:


type(b)


# In[ ]:


c = a * b


# In[ ]:


c


# In[ ]:


type(c)


# In[ ]:


y = 6
y += 1 


# In[ ]:


y


# In[ ]:


y = 6
y = y+1


# In[ ]:


y


# # Muito Obrigado ! 

# In[ ]:




