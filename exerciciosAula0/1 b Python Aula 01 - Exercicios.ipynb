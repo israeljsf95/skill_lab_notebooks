#!/usr/bin/env python
# coding: utf-8

# 
# ## <font color='red'> Variáveis, Tipos de Dados, Operações Matemáticas precedência de operações  </font> 

# #  <font color='blue'>1. O que esse código irá gerar ?  </font> 

# In[ ]:


x = 10
x = 20
x = 15
x


# In[ ]:


type(x)


# In[ ]:


z = x/y
z


# In[ ]:


type(z)


# #  <font color='blue'>2. Escreva um código que irá calcular a area e o perimetro de um retangulo (assumindo qualquer valores para comprimento e largura) </font> 
# ![image.png](attachment:image.png)

# In[ ]:





# In[ ]:





# In[ ]:





# #  <font color='blue'> 3. O que irá gerar esse código ? </font> 

# In[ ]:


x = 25
y = 20
z = 3
f = 2


# In[ ]:


ans = (x - y) * z / f       
ans


# In[ ]:


e = ((x - y) * z) / f    
e


# In[ ]:


z = (x - y) * (z / f);    
z


# # <font color='blue'> 4. Escreva um código para testar se um número é Par ou Ímpar </font> 

# In[ ]:





# In[ ]:





# In[ ]:





# # <font color='blue'> 5. Escreva um código que irá pegar um número , irá elevar ao quadrado e então o resultado irá ser o cálculo da raiz quadrada !) </font> 

# In[ ]:





# In[ ]:





# # <font color='blue'> 6. Escreva um código que itá pegar uma dimensão de um cubo e então obter a área e o volume  </font> 
# ![image.png](attachment:image.png)

# In[ ]:





# In[ ]:





# In[ ]:





# # <font color='blue'> 7. Escreva um código que irá pegar um número e incrimenta-lo 3 vezes </font> 

# In[ ]:





# In[ ]:





# In[ ]:





# In[ ]:





# #  <font color='blue'>8. O que deu errado ? Adicione linhas de código para que Z se torne iqual a 55  </font> 

# In[ ]:


x = 20
y = 30

z = x + y + s


# #  <font color='blue'>9. Escreva um código que irá calcular a seguinte equação matemática  </font> 
# z = |x − y| *  (x + y)

# In[ ]:





# In[ ]:





# #  <font color='blue'> 10. Quais dos seguintes será eliminado para executar o código com sucesso ? 
# - Comente as linhas que causam erros  
# - E remova a variável do comando Print   </font> 
# 

# # Regras de Nomenclatura de Variáveis
# - Variables names must start with a letter or an underscore, such as:
#     - _salary
#     - salary_
# - The remainder of your variable name may consist of letters, numbers and underscores.
#     - salary1
#     - salary2018x
#     - speed_kph
# - Names are case sensitive.
#     - salary, SALARY represents different variables.
#     
# - Don't start variable name with a number
# - List of reserved words are listed below
#     
#     ![image.png](attachment:image.png)

# In[ ]:


salary = 20 # dollars per hour
Salary = 25
for = 10
saLary = 12
SALARY = 13
s_a_l_a_r_y = 15
2SALARY = 30
_salary = 30
True = 20
salary_ = 33
_SALARY_ = 36

print(salary, Salary, for, saLary, SALARY, s_a_l_a_r_y, 2SALARY, _salary, True, salary_, _SALARY_)


# #  <font color='blue'> 11. Escreva um código em python que irá pegar a temperatura em graus celcius e erntão converte la em graus Fahrenheit   </font> 
# ![image.png](attachment:image.png)
# # F = 9/5*C+32

# In[ ]:





# In[ ]:





# In[ ]:





# In[ ]:





# # <font color='blue'> 12. Escreva um código que converte Quilometros por hora em Milhas por hora (Use a equação abaixo)   </font> 
# ![image.png](attachment:image.png)
# MPH = 0.6214 * KMH

# In[ ]:





# In[ ]:





# In[ ]:





# Bom Trabalho Até Aqui ! 
# 
